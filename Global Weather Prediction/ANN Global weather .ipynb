{
 "cells": [
  {
   "cell_type": "code",
   "execution_count": null,
   "id": "ab7065f3-8ab6-46e7-a3e2-205fda17ed96",
   "metadata": {},
   "outputs": [],
   "source": [
    "import tensorflow \n",
    "from tensorflow import keras \n",
    "import pandas \n",
    "import numpy "
   ]
  },
  {
   "cell_type": "code",
   "execution_count": null,
   "id": "dab898df-6e72-4910-a7b5-47c70410a8b2",
   "metadata": {},
   "outputs": [],
   "source": [
    "df=pandas.read_csv('GlobalWeatherRepository.csv')"
   ]
  },
  {
   "cell_type": "code",
   "execution_count": null,
   "id": "5351b55b-6898-4c5e-805d-1afda988172d",
   "metadata": {},
   "outputs": [],
   "source": [
    "df.shape"
   ]
  },
  {
   "cell_type": "code",
   "execution_count": null,
   "id": "fc482db0-c3a8-42c5-8e85-bd5245792fc4",
   "metadata": {},
   "outputs": [],
   "source": [
    "df.info()"
   ]
  },
  {
   "cell_type": "code",
   "execution_count": null,
   "id": "80468be6-6a13-4e85-a4fb-79d483a868c4",
   "metadata": {},
   "outputs": [],
   "source": [
    "df.isnull().sum()"
   ]
  },
  {
   "cell_type": "code",
   "execution_count": null,
   "id": "879ef424-357a-4e1c-a632-cf06f6cef36d",
   "metadata": {},
   "outputs": [],
   "source": [
    "df.duplicated().sum()"
   ]
  },
  {
   "cell_type": "code",
   "execution_count": null,
   "id": "9a1807d2-9d8b-471d-aea5-ba98ce94e671",
   "metadata": {},
   "outputs": [],
   "source": [
    "df"
   ]
  },
  {
   "cell_type": "code",
   "execution_count": null,
   "id": "c17f6e0b-085a-4c3d-b74c-6655042f1ab8",
   "metadata": {},
   "outputs": [],
   "source": [
    "df.columns "
   ]
  },
  {
   "cell_type": "code",
   "execution_count": null,
   "id": "d8cffb79-e5f2-4349-8cd5-db56cd5bf30a",
   "metadata": {},
   "outputs": [],
   "source": [
    "df.drop(columns=['country', 'location_name','sunrise',\n",
    "       'sunset', 'moonrise', 'moonset', 'moon_phase', 'moon_illumination'],inplace=True)"
   ]
  },
  {
   "cell_type": "code",
   "execution_count": null,
   "id": "e1cc873d-ae5d-4fa6-bd91-d4cd6f9a7755",
   "metadata": {},
   "outputs": [],
   "source": [
    "df"
   ]
  },
  {
   "cell_type": "code",
   "execution_count": null,
   "id": "2eee46a8-e327-4336-9621-b5cdc809b87e",
   "metadata": {},
   "outputs": [],
   "source": [
    "for i in df.columns:\n",
    "    if df[i].dtypes == 'object':\n",
    "        print(i)"
   ]
  },
  {
   "cell_type": "code",
   "execution_count": null,
   "id": "0721ed37-ea88-4a9f-8cf2-6a2c1e6df865",
   "metadata": {},
   "outputs": [],
   "source": [
    "df['condition_text'].unique()"
   ]
  },
  {
   "cell_type": "code",
   "execution_count": null,
   "id": "5c1e7eb8-3dce-4d37-94ca-08356fba5dd0",
   "metadata": {},
   "outputs": [],
   "source": [
    "from sklearn.preprocessing import LabelEncoder"
   ]
  },
  {
   "cell_type": "code",
   "execution_count": null,
   "id": "2f496423-d223-4410-8c93-095754ce63e3",
   "metadata": {},
   "outputs": [],
   "source": [
    "encoder=LabelEncoder()"
   ]
  },
  {
   "cell_type": "code",
   "execution_count": null,
   "id": "1809345b-05cc-46f8-8853-cea01b74a83c",
   "metadata": {},
   "outputs": [],
   "source": [
    "df['wind_direction']=encoder.fit_transform(df['wind_direction'])"
   ]
  },
  {
   "cell_type": "code",
   "execution_count": null,
   "id": "e820ee0c-86eb-4d81-84a3-69ebdba6705f",
   "metadata": {},
   "outputs": [],
   "source": [
    "df['timezone']=encoder.fit_transform(df['timezone'])"
   ]
  },
  {
   "cell_type": "code",
   "execution_count": null,
   "id": "0400ad43-7f6b-48cc-b0dd-5c8b6d0af8a1",
   "metadata": {},
   "outputs": [],
   "source": [
    "df['last_updated']=encoder.fit_transform(df['last_updated'])"
   ]
  },
  {
   "cell_type": "code",
   "execution_count": null,
   "id": "2a776138-f921-4a35-810e-f9bdce91e852",
   "metadata": {},
   "outputs": [],
   "source": [
    "df['condition_text']=encoder.fit_transform(df['condition_text'])"
   ]
  },
  {
   "cell_type": "code",
   "execution_count": null,
   "id": "ef61c0b8-0fda-4e4e-8b4d-3d0d602f7c6b",
   "metadata": {},
   "outputs": [],
   "source": [
    "from sklearn.preprocessing import MinMaxScaler\n",
    "\n",
    "numerical_features = ['temperature_celsius', 'humidity', 'pressure_mb', 'wind_kph', \n",
    "                      'air_quality_Carbon_Monoxide', 'air_quality_PM2.5', 'air_quality_PM10']\n",
    "\n",
    "scaler = MinMaxScaler()\n",
    "df[numerical_features] = scaler.fit_transform(df[numerical_features])\n"
   ]
  },
  {
   "cell_type": "code",
   "execution_count": null,
   "id": "29af1b6b-1920-4655-8c50-b4c49e115345",
   "metadata": {},
   "outputs": [],
   "source": [
    "from sklearn.model_selection import train_test_split\n",
    "\n",
    "X = df[numerical_features]  \n",
    "Y = df['temperature_celsius']  \n",
    "\n",
    "X_train, X_test, Y_train, Y_test = train_test_split(X, Y, test_size=0.2, random_state=42)\n"
   ]
  },
  {
   "cell_type": "code",
   "execution_count": null,
   "id": "f498f9ff-31d1-4352-882f-2b4c099d2ef2",
   "metadata": {},
   "outputs": [],
   "source": [
    "import tensorflow as tf\n",
    "from tensorflow import keras\n",
    "from tensorflow.keras.models import Sequential\n",
    "from tensorflow.keras.layers import Dense\n",
    "\n",
    "# ANN architecture\n",
    "model = Sequential([\n",
    "    Dense(64, activation='relu', input_shape=(X_train.shape[1],)),  \n",
    "    Dense(32, activation='relu'), \n",
    "    Dense(16, activation='relu'),  \n",
    "    Dense(8,  activation='relu'),\n",
    "    Dense(1, activation='linear')  \n",
    "])\n",
    "\n",
    "# Compile the model\n",
    "model.compile(optimizer='adam', loss='mean_squared_error', metrics=['mae'])\n",
    "\n",
    "# Train the model\n",
    "model.fit(X_train, Y_train, epochs=50, batch_size=32, validation_data=(X_test, Y_test))\n"
   ]
  },
  {
   "cell_type": "code",
   "execution_count": null,
   "id": "919ce0cf-37a7-4d54-9ced-32f1a2843a66",
   "metadata": {},
   "outputs": [],
   "source": [
    "loss, mae = model.evaluate(X_test, Y_test)\n",
    "print(f\"Test MAE: {mae}\")\n"
   ]
  },
  {
   "cell_type": "code",
   "execution_count": null,
   "id": "9e900021-f4ed-46ca-8b93-eb5baf932633",
   "metadata": {},
   "outputs": [],
   "source": [
    "predictions = model.predict(X_test)\n"
   ]
  },
  {
   "cell_type": "code",
   "execution_count": null,
   "id": "dc688278-0231-44ca-8af9-37146bcbe91d",
   "metadata": {},
   "outputs": [],
   "source": [
    "import numpy as np\n",
    "\n",
    "predictions = model.predict(X_test)\n",
    "\n",
    "predictions = np.round(predictions, 2)  \n",
    "\n",
    "for i in range(5): \n",
    "    print(f\"Predicted: {predictions[i][0]}°C | Actual: {Y_test.iloc[i]}°C\")\n"
   ]
  },
  {
   "cell_type": "code",
   "execution_count": null,
   "id": "f5faffab-d190-4986-900d-70f12b521fce",
   "metadata": {},
   "outputs": [],
   "source": [
    "from sklearn.metrics import mean_absolute_error, mean_squared_error\n",
    "\n",
    "mae = mean_absolute_error(Y_test, predictions)\n",
    "mse = mean_squared_error(Y_test, predictions)\n",
    "rmse = np.sqrt(mse) \n",
    "\n",
    "print(f\"MAE: {mae}°C\")    \n",
    "print(f\"MSE: {mse}\")\n",
    "print(f\"RMSE: {rmse}°C\")\n"
   ]
  },
  {
   "cell_type": "code",
   "execution_count": null,
   "id": "70778b53-6823-4987-83cc-016a86e40a33",
   "metadata": {},
   "outputs": [],
   "source": [
    "new_data = np.array([[0.75, 0.60, 0.85, 0.20, 0.05, 0.10, 0.12]])  # Normalized input\n",
    "\n",
    "new_data = new_data.reshape(1, -1)\n",
    "\n",
    "# Predict temperature\n",
    "predicted_temp = model.predict(new_data)\n",
    "print(f\"Predicted Temperature: {predicted_temp[0][0]:.2f}°C\")\n"
   ]
  },
  {
   "cell_type": "code",
   "execution_count": null,
   "id": "d4cb9b0b-c99b-4601-b0ae-0362e45c57d9",
   "metadata": {},
   "outputs": [],
   "source": []
  }
 ],
 "metadata": {
  "kernelspec": {
   "display_name": "Python [conda env:base] *",
   "language": "python",
   "name": "conda-base-py"
  },
  "language_info": {
   "codemirror_mode": {
    "name": "ipython",
    "version": 3
   },
   "file_extension": ".py",
   "mimetype": "text/x-python",
   "name": "python",
   "nbconvert_exporter": "python",
   "pygments_lexer": "ipython3",
   "version": "3.12.7"
  }
 },
 "nbformat": 4,
 "nbformat_minor": 5
}
